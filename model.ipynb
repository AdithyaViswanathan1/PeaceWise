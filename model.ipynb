{
 "cells": [
  {
   "cell_type": "code",
   "execution_count": 42,
   "metadata": {},
   "outputs": [],
   "source": [
    "import json\n",
    "import numpy as np\n",
    "import pandas as pd\n",
    "import matplotlib.pyplot as plt\n",
    "from sklearn.model_selection import train_test_split\n",
    "from sklearn.feature_extraction.text import TfidfVectorizer\n",
    "from sklearn.metrics import classification_report\n",
    "from sklearn.metrics import precision_score, recall_score\n",
    "import nltk\n",
    "from nltk import word_tokenize\n",
    "from nltk.corpus import stopwords\n",
    "from nltk.stem import WordNetLemmatizer\n",
    "from sklearn.model_selection import GridSearchCV\n",
    "from datasets import load_dataset\n",
    "import re\n",
    "import pickle\n",
    "# If you don't have NLTK on your local machine, run the command below\n",
    "# nltk.download('popular')"
   ]
  },
  {
   "cell_type": "markdown",
   "metadata": {},
   "source": [
    "# Loading Data"
   ]
  },
  {
   "cell_type": "code",
   "execution_count": 43,
   "metadata": {},
   "outputs": [],
   "source": [
    "# FINAL DATASET: https://www.kaggle.com/datasets/elvis23/mental-health-conversational-data\n",
    "with open(\"qa.json\", 'r') as file:\n",
    "    dict = json.load(file)"
   ]
  },
  {
   "cell_type": "code",
   "execution_count": 44,
   "metadata": {},
   "outputs": [
    {
     "data": {
      "text/html": [
       "<div>\n",
       "<style scoped>\n",
       "    .dataframe tbody tr th:only-of-type {\n",
       "        vertical-align: middle;\n",
       "    }\n",
       "\n",
       "    .dataframe tbody tr th {\n",
       "        vertical-align: top;\n",
       "    }\n",
       "\n",
       "    .dataframe thead th {\n",
       "        text-align: right;\n",
       "    }\n",
       "</style>\n",
       "<table border=\"1\" class=\"dataframe\">\n",
       "  <thead>\n",
       "    <tr style=\"text-align: right;\">\n",
       "      <th></th>\n",
       "      <th>tag</th>\n",
       "      <th>patterns</th>\n",
       "      <th>responses</th>\n",
       "    </tr>\n",
       "  </thead>\n",
       "  <tbody>\n",
       "    <tr>\n",
       "      <th>0</th>\n",
       "      <td>greeting</td>\n",
       "      <td>[Hi, Hey, Is anyone there?, Hi there, Hello, H...</td>\n",
       "      <td>[Hello there. Tell me how are you feeling toda...</td>\n",
       "    </tr>\n",
       "    <tr>\n",
       "      <th>1</th>\n",
       "      <td>morning</td>\n",
       "      <td>[Good morning]</td>\n",
       "      <td>[Good morning. I hope you had a good night's s...</td>\n",
       "    </tr>\n",
       "    <tr>\n",
       "      <th>2</th>\n",
       "      <td>afternoon</td>\n",
       "      <td>[Good afternoon]</td>\n",
       "      <td>[Good afternoon. How is your day going?]</td>\n",
       "    </tr>\n",
       "    <tr>\n",
       "      <th>3</th>\n",
       "      <td>evening</td>\n",
       "      <td>[Good evening]</td>\n",
       "      <td>[Good evening. How has your day been?]</td>\n",
       "    </tr>\n",
       "    <tr>\n",
       "      <th>4</th>\n",
       "      <td>night</td>\n",
       "      <td>[Good night]</td>\n",
       "      <td>[Good night. Get some proper sleep, Good night...</td>\n",
       "    </tr>\n",
       "  </tbody>\n",
       "</table>\n",
       "</div>"
      ],
      "text/plain": [
       "         tag                                           patterns  \\\n",
       "0   greeting  [Hi, Hey, Is anyone there?, Hi there, Hello, H...   \n",
       "1    morning                                     [Good morning]   \n",
       "2  afternoon                                   [Good afternoon]   \n",
       "3    evening                                     [Good evening]   \n",
       "4      night                                       [Good night]   \n",
       "\n",
       "                                           responses  \n",
       "0  [Hello there. Tell me how are you feeling toda...  \n",
       "1  [Good morning. I hope you had a good night's s...  \n",
       "2           [Good afternoon. How is your day going?]  \n",
       "3             [Good evening. How has your day been?]  \n",
       "4  [Good night. Get some proper sleep, Good night...  "
      ]
     },
     "execution_count": 44,
     "metadata": {},
     "output_type": "execute_result"
    }
   ],
   "source": [
    "df = pd.DataFrame.from_dict(dict['intents'])\n",
    "df.head()"
   ]
  },
  {
   "cell_type": "markdown",
   "metadata": {},
   "source": [
    "Right now, each row contains a tag, a list of patterns, and a list of responses. It would be more useful if we can break up the rows so that it addresses only one pattern. This would be easier from a machine learning perspective so that each pattern gets its own row for the model to learn more specifically."
   ]
  },
  {
   "cell_type": "markdown",
   "metadata": {},
   "source": [
    "# Loading more data"
   ]
  },
  {
   "cell_type": "code",
   "execution_count": 45,
   "metadata": {},
   "outputs": [],
   "source": [
    "dataset = load_dataset(\"heliosbrahma/mental_health_chatbot_dataset\")"
   ]
  },
  {
   "cell_type": "code",
   "execution_count": 46,
   "metadata": {},
   "outputs": [
    {
     "data": {
      "text/html": [
       "<div>\n",
       "<style scoped>\n",
       "    .dataframe tbody tr th:only-of-type {\n",
       "        vertical-align: middle;\n",
       "    }\n",
       "\n",
       "    .dataframe tbody tr th {\n",
       "        vertical-align: top;\n",
       "    }\n",
       "\n",
       "    .dataframe thead th {\n",
       "        text-align: right;\n",
       "    }\n",
       "</style>\n",
       "<table border=\"1\" class=\"dataframe\">\n",
       "  <thead>\n",
       "    <tr style=\"text-align: right;\">\n",
       "      <th></th>\n",
       "      <th>tag</th>\n",
       "      <th>patterns</th>\n",
       "      <th>responses</th>\n",
       "    </tr>\n",
       "  </thead>\n",
       "  <tbody>\n",
       "    <tr>\n",
       "      <th>0</th>\n",
       "      <td>more-facts-0</td>\n",
       "      <td>What is a panic attack?</td>\n",
       "      <td>Panic attacks come on suddenly and involve int...</td>\n",
       "    </tr>\n",
       "    <tr>\n",
       "      <th>1</th>\n",
       "      <td>more-facts-1</td>\n",
       "      <td>What are symptoms of panic attack vs. anxiety ...</td>\n",
       "      <td>Panic attacks and anxiety attacks can share so...</td>\n",
       "    </tr>\n",
       "    <tr>\n",
       "      <th>2</th>\n",
       "      <td>more-facts-2</td>\n",
       "      <td>What are the types of Mental Illness?</td>\n",
       "      <td>There are many different conditions that are r...</td>\n",
       "    </tr>\n",
       "    <tr>\n",
       "      <th>3</th>\n",
       "      <td>more-facts-3</td>\n",
       "      <td>What does mental-illness mean?</td>\n",
       "      <td>Mental illness is a group of biological brain ...</td>\n",
       "    </tr>\n",
       "    <tr>\n",
       "      <th>4</th>\n",
       "      <td>more-facts-4</td>\n",
       "      <td>How can you treat mental illness?</td>\n",
       "      <td>The treatment of mental illness is a multi-fac...</td>\n",
       "    </tr>\n",
       "    <tr>\n",
       "      <th>...</th>\n",
       "      <td>...</td>\n",
       "      <td>...</td>\n",
       "      <td>...</td>\n",
       "    </tr>\n",
       "    <tr>\n",
       "      <th>167</th>\n",
       "      <td>more-facts-167</td>\n",
       "      <td>Who are you?</td>\n",
       "      <td>Hello there! I am your empathetic Mental Healt...</td>\n",
       "    </tr>\n",
       "    <tr>\n",
       "      <th>168</th>\n",
       "      <td>more-facts-168</td>\n",
       "      <td>What is the helpline number for suicide preven...</td>\n",
       "      <td>I'm really sorry but I can't provide helpline ...</td>\n",
       "    </tr>\n",
       "    <tr>\n",
       "      <th>169</th>\n",
       "      <td>more-facts-169</td>\n",
       "      <td>Which is the best mental health hospital in Ne...</td>\n",
       "      <td>I'm really sorry, but I can't provide accurate...</td>\n",
       "    </tr>\n",
       "    <tr>\n",
       "      <th>170</th>\n",
       "      <td>more-facts-170</td>\n",
       "      <td>Who is the best hypnotherapist in London?</td>\n",
       "      <td>I understand that you're looking for a hypnoth...</td>\n",
       "    </tr>\n",
       "    <tr>\n",
       "      <th>171</th>\n",
       "      <td>more-facts-171</td>\n",
       "      <td>Who is the best psychiatrist in Mumbai?</td>\n",
       "      <td>I understand that finding the right psychiatri...</td>\n",
       "    </tr>\n",
       "  </tbody>\n",
       "</table>\n",
       "<p>172 rows × 3 columns</p>\n",
       "</div>"
      ],
      "text/plain": [
       "                tag                                           patterns  \\\n",
       "0      more-facts-0                            What is a panic attack?   \n",
       "1      more-facts-1  What are symptoms of panic attack vs. anxiety ...   \n",
       "2      more-facts-2              What are the types of Mental Illness?   \n",
       "3      more-facts-3                     What does mental-illness mean?   \n",
       "4      more-facts-4                  How can you treat mental illness?   \n",
       "..              ...                                                ...   \n",
       "167  more-facts-167                                       Who are you?   \n",
       "168  more-facts-168  What is the helpline number for suicide preven...   \n",
       "169  more-facts-169  Which is the best mental health hospital in Ne...   \n",
       "170  more-facts-170          Who is the best hypnotherapist in London?   \n",
       "171  more-facts-171            Who is the best psychiatrist in Mumbai?   \n",
       "\n",
       "                                             responses  \n",
       "0    Panic attacks come on suddenly and involve int...  \n",
       "1    Panic attacks and anxiety attacks can share so...  \n",
       "2    There are many different conditions that are r...  \n",
       "3    Mental illness is a group of biological brain ...  \n",
       "4    The treatment of mental illness is a multi-fac...  \n",
       "..                                                 ...  \n",
       "167  Hello there! I am your empathetic Mental Healt...  \n",
       "168  I'm really sorry but I can't provide helpline ...  \n",
       "169  I'm really sorry, but I can't provide accurate...  \n",
       "170  I understand that you're looking for a hypnoth...  \n",
       "171  I understand that finding the right psychiatri...  \n",
       "\n",
       "[172 rows x 3 columns]"
      ]
     },
     "execution_count": 46,
     "metadata": {},
     "output_type": "execute_result"
    }
   ],
   "source": [
    "more_data = pd.DataFrame(columns=['tag', 'patterns', 'responses'])\n",
    "#dataset['train']['text']\n",
    "for i,row in enumerate(dataset['train']['text']):\n",
    "    # Extract question\n",
    "    human_text = re.search(r'<HUMAN>:\\s*(.*)', row).group(1)\n",
    "    assistant_text = re.search(r'<ASSISTANT>:\\s*(.*)', row).group(1)\n",
    "\n",
    "    # print(\"Text after <HUMAN>:\", human_text)\n",
    "    # print(\"Text after <ASSISTANT>:\", assistant_text)\n",
    "    row_data = {'tag': f\"more-facts-{i}\", 'patterns': human_text, 'responses': assistant_text}\n",
    "    more_data = pd.concat([more_data, pd.DataFrame([row_data])], ignore_index=True)\n",
    "more_data"
   ]
  },
  {
   "cell_type": "code",
   "execution_count": 47,
   "metadata": {},
   "outputs": [
    {
     "data": {
      "text/plain": [
       "((80, 3), (172, 3), (252, 3))"
      ]
     },
     "execution_count": 47,
     "metadata": {},
     "output_type": "execute_result"
    }
   ],
   "source": [
    "combined_df = pd.concat([df,more_data], ignore_index=True)\n",
    "combined_df.to_csv(\"data.csv\")\n",
    "df.shape, more_data.shape, combined_df.shape"
   ]
  },
  {
   "cell_type": "markdown",
   "metadata": {},
   "source": [
    "# Data Augmentation"
   ]
  },
  {
   "cell_type": "code",
   "execution_count": 48,
   "metadata": {},
   "outputs": [
    {
     "name": "stderr",
     "output_type": "stream",
     "text": [
      "The `xla_device` argument has been deprecated in v4.4.0 of Transformers. It is ignored and you can safely remove it from your `config.json` file.\n",
      "The `xla_device` argument has been deprecated in v4.4.0 of Transformers. It is ignored and you can safely remove it from your `config.json` file.\n"
     ]
    },
    {
     "name": "stderr",
     "output_type": "stream",
     "text": [
      "The `xla_device` argument has been deprecated in v4.4.0 of Transformers. It is ignored and you can safely remove it from your `config.json` file.\n",
      "/Library/Frameworks/Python.framework/Versions/3.11/lib/python3.11/site-packages/transformers/models/auto/modeling_auto.py:1699: FutureWarning: The class `AutoModelWithLMHead` is deprecated and will be removed in a future version. Please use `AutoModelForCausalLM` for causal language models, `AutoModelForMaskedLM` for masked language models and `AutoModelForSeq2SeqLM` for encoder-decoder models.\n",
      "  warnings.warn(\n",
      "The `xla_device` argument has been deprecated in v4.4.0 of Transformers. It is ignored and you can safely remove it from your `config.json` file.\n"
     ]
    }
   ],
   "source": [
    "from transformers import AutoModelWithLMHead, AutoTokenizer\n",
    "# https://huggingface.co/mrm8488/t5-small-finetuned-quora-for-paraphrasing\n",
    "# pip install transformers\n",
    "# pip install sentencepiece, then restart kernel\n",
    "\n",
    "tokenizer = AutoTokenizer.from_pretrained(\"mrm8488/t5-small-finetuned-quora-for-paraphrasing\")\n",
    "model = AutoModelWithLMHead.from_pretrained(\"mrm8488/t5-small-finetuned-quora-for-paraphrasing\")\n",
    "\n",
    "def paraphrase(text, max_length=128):\n",
    "\n",
    "  input_ids = tokenizer.encode(text, return_tensors=\"pt\", add_special_tokens=True)\n",
    "\n",
    "  generated_ids = model.generate(input_ids=input_ids, num_return_sequences=5, num_beams=5, max_length=max_length, no_repeat_ngram_size=2, repetition_penalty=3.5, length_penalty=1.0, early_stopping=True)\n",
    "\n",
    "  preds = [tokenizer.decode(g, skip_special_tokens=True, clean_up_tokenization_spaces=True) for g in generated_ids]\n",
    "\n",
    "  return preds"
   ]
  },
  {
   "cell_type": "code",
   "execution_count": 49,
   "metadata": {},
   "outputs": [],
   "source": [
    "for index,row in combined_df.iterrows():\n",
    "    if \"fact\" in row['tag']:\n",
    "        input_sentence = row['patterns']\n",
    "        new_sentences = []\n",
    "        if isinstance(input_sentence, str):\n",
    "            generated_sentences = paraphrase(f\"paraphrase: {input_sentence}\")\n",
    "            for generated in generated_sentences:\n",
    "                if generated not in input_sentence:\n",
    "                    new_sentences.append(generated)\n",
    "            row['patterns'] = new_sentences\n",
    "            # print(\"ROW\", index)\n",
    "            # print(\"Original\", input_sentence)\n",
    "            # print(\"NEW\", row[\"patterns\"])"
   ]
  },
  {
   "cell_type": "code",
   "execution_count": 50,
   "metadata": {},
   "outputs": [
    {
     "data": {
      "text/html": [
       "<div>\n",
       "<style scoped>\n",
       "    .dataframe tbody tr th:only-of-type {\n",
       "        vertical-align: middle;\n",
       "    }\n",
       "\n",
       "    .dataframe tbody tr th {\n",
       "        vertical-align: top;\n",
       "    }\n",
       "\n",
       "    .dataframe thead th {\n",
       "        text-align: right;\n",
       "    }\n",
       "</style>\n",
       "<table border=\"1\" class=\"dataframe\">\n",
       "  <thead>\n",
       "    <tr style=\"text-align: right;\">\n",
       "      <th></th>\n",
       "      <th>tag</th>\n",
       "      <th>patterns</th>\n",
       "      <th>responses</th>\n",
       "    </tr>\n",
       "  </thead>\n",
       "  <tbody>\n",
       "    <tr>\n",
       "      <th>0</th>\n",
       "      <td>greeting</td>\n",
       "      <td>[Hi, Hey, Is anyone there?, Hi there, Hello, H...</td>\n",
       "      <td>[Hello there. Tell me how are you feeling toda...</td>\n",
       "    </tr>\n",
       "    <tr>\n",
       "      <th>1</th>\n",
       "      <td>morning</td>\n",
       "      <td>[Good morning]</td>\n",
       "      <td>[Good morning. I hope you had a good night's s...</td>\n",
       "    </tr>\n",
       "    <tr>\n",
       "      <th>2</th>\n",
       "      <td>afternoon</td>\n",
       "      <td>[Good afternoon]</td>\n",
       "      <td>[Good afternoon. How is your day going?]</td>\n",
       "    </tr>\n",
       "    <tr>\n",
       "      <th>3</th>\n",
       "      <td>evening</td>\n",
       "      <td>[Good evening]</td>\n",
       "      <td>[Good evening. How has your day been?]</td>\n",
       "    </tr>\n",
       "    <tr>\n",
       "      <th>4</th>\n",
       "      <td>night</td>\n",
       "      <td>[Good night]</td>\n",
       "      <td>[Good night. Get some proper sleep, Good night...</td>\n",
       "    </tr>\n",
       "  </tbody>\n",
       "</table>\n",
       "</div>"
      ],
      "text/plain": [
       "         tag                                           patterns  \\\n",
       "0   greeting  [Hi, Hey, Is anyone there?, Hi there, Hello, H...   \n",
       "1    morning                                     [Good morning]   \n",
       "2  afternoon                                   [Good afternoon]   \n",
       "3    evening                                     [Good evening]   \n",
       "4      night                                       [Good night]   \n",
       "\n",
       "                                           responses  \n",
       "0  [Hello there. Tell me how are you feeling toda...  \n",
       "1  [Good morning. I hope you had a good night's s...  \n",
       "2           [Good afternoon. How is your day going?]  \n",
       "3             [Good evening. How has your day been?]  \n",
       "4  [Good night. Get some proper sleep, Good night...  "
      ]
     },
     "execution_count": 50,
     "metadata": {},
     "output_type": "execute_result"
    }
   ],
   "source": [
    "combined_df.head()"
   ]
  },
  {
   "cell_type": "code",
   "execution_count": 51,
   "metadata": {},
   "outputs": [
    {
     "data": {
      "text/plain": [
       "(252, 3)"
      ]
     },
     "execution_count": 51,
     "metadata": {},
     "output_type": "execute_result"
    }
   ],
   "source": [
    "combined_df.shape"
   ]
  },
  {
   "cell_type": "code",
   "execution_count": 52,
   "metadata": {},
   "outputs": [],
   "source": [
    "combined_df.to_csv('data.csv')"
   ]
  },
  {
   "cell_type": "markdown",
   "metadata": {},
   "source": [
    "# Reformat the data"
   ]
  },
  {
   "cell_type": "code",
   "execution_count": 53,
   "metadata": {},
   "outputs": [
    {
     "data": {
      "text/html": [
       "<div>\n",
       "<style scoped>\n",
       "    .dataframe tbody tr th:only-of-type {\n",
       "        vertical-align: middle;\n",
       "    }\n",
       "\n",
       "    .dataframe tbody tr th {\n",
       "        vertical-align: top;\n",
       "    }\n",
       "\n",
       "    .dataframe thead th {\n",
       "        text-align: right;\n",
       "    }\n",
       "</style>\n",
       "<table border=\"1\" class=\"dataframe\">\n",
       "  <thead>\n",
       "    <tr style=\"text-align: right;\">\n",
       "      <th></th>\n",
       "      <th>tag</th>\n",
       "      <th>patterns</th>\n",
       "      <th>responses</th>\n",
       "    </tr>\n",
       "  </thead>\n",
       "  <tbody>\n",
       "    <tr>\n",
       "      <th>0</th>\n",
       "      <td>greeting</td>\n",
       "      <td>Hi</td>\n",
       "      <td>[Hello there. Tell me how are you feeling toda...</td>\n",
       "    </tr>\n",
       "    <tr>\n",
       "      <th>1</th>\n",
       "      <td>greeting</td>\n",
       "      <td>Hey</td>\n",
       "      <td>[Hello there. Tell me how are you feeling toda...</td>\n",
       "    </tr>\n",
       "    <tr>\n",
       "      <th>2</th>\n",
       "      <td>greeting</td>\n",
       "      <td>Is anyone there?</td>\n",
       "      <td>[Hello there. Tell me how are you feeling toda...</td>\n",
       "    </tr>\n",
       "    <tr>\n",
       "      <th>3</th>\n",
       "      <td>greeting</td>\n",
       "      <td>Hi there</td>\n",
       "      <td>[Hello there. Tell me how are you feeling toda...</td>\n",
       "    </tr>\n",
       "    <tr>\n",
       "      <th>4</th>\n",
       "      <td>greeting</td>\n",
       "      <td>Hello</td>\n",
       "      <td>[Hello there. Tell me how are you feeling toda...</td>\n",
       "    </tr>\n",
       "    <tr>\n",
       "      <th>...</th>\n",
       "      <td>...</td>\n",
       "      <td>...</td>\n",
       "      <td>...</td>\n",
       "    </tr>\n",
       "    <tr>\n",
       "      <th>1018</th>\n",
       "      <td>more-facts-170</td>\n",
       "      <td>Who is the best hypnotherapist in London? Why?</td>\n",
       "      <td>I understand that you're looking for a hypnoth...</td>\n",
       "    </tr>\n",
       "    <tr>\n",
       "      <th>1019</th>\n",
       "      <td>more-facts-171</td>\n",
       "      <td>Who are the best psychiatrists in Mumbai?</td>\n",
       "      <td>I understand that finding the right psychiatri...</td>\n",
       "    </tr>\n",
       "    <tr>\n",
       "      <th>1020</th>\n",
       "      <td>more-facts-171</td>\n",
       "      <td>Which is the best psychiatrist in Mumbai?</td>\n",
       "      <td>I understand that finding the right psychiatri...</td>\n",
       "    </tr>\n",
       "    <tr>\n",
       "      <th>1021</th>\n",
       "      <td>more-facts-171</td>\n",
       "      <td>Who is best psychiatrist in Mumbai?</td>\n",
       "      <td>I understand that finding the right psychiatri...</td>\n",
       "    </tr>\n",
       "    <tr>\n",
       "      <th>1022</th>\n",
       "      <td>more-facts-171</td>\n",
       "      <td>Who is the best psychiatrist in Mumbai? Why?</td>\n",
       "      <td>I understand that finding the right psychiatri...</td>\n",
       "    </tr>\n",
       "  </tbody>\n",
       "</table>\n",
       "<p>1023 rows × 3 columns</p>\n",
       "</div>"
      ],
      "text/plain": [
       "                 tag                                        patterns  \\\n",
       "0           greeting                                              Hi   \n",
       "1           greeting                                             Hey   \n",
       "2           greeting                                Is anyone there?   \n",
       "3           greeting                                        Hi there   \n",
       "4           greeting                                           Hello   \n",
       "...              ...                                             ...   \n",
       "1018  more-facts-170  Who is the best hypnotherapist in London? Why?   \n",
       "1019  more-facts-171       Who are the best psychiatrists in Mumbai?   \n",
       "1020  more-facts-171       Which is the best psychiatrist in Mumbai?   \n",
       "1021  more-facts-171             Who is best psychiatrist in Mumbai?   \n",
       "1022  more-facts-171    Who is the best psychiatrist in Mumbai? Why?   \n",
       "\n",
       "                                              responses  \n",
       "0     [Hello there. Tell me how are you feeling toda...  \n",
       "1     [Hello there. Tell me how are you feeling toda...  \n",
       "2     [Hello there. Tell me how are you feeling toda...  \n",
       "3     [Hello there. Tell me how are you feeling toda...  \n",
       "4     [Hello there. Tell me how are you feeling toda...  \n",
       "...                                                 ...  \n",
       "1018  I understand that you're looking for a hypnoth...  \n",
       "1019  I understand that finding the right psychiatri...  \n",
       "1020  I understand that finding the right psychiatri...  \n",
       "1021  I understand that finding the right psychiatri...  \n",
       "1022  I understand that finding the right psychiatri...  \n",
       "\n",
       "[1023 rows x 3 columns]"
      ]
     },
     "execution_count": 53,
     "metadata": {},
     "output_type": "execute_result"
    }
   ],
   "source": [
    "columns = dict['intents'][0].keys()\n",
    "\n",
    "# Instantiate dataframe and load with individual rows (only one pattern in each row)\n",
    "data = pd.DataFrame(columns=columns)\n",
    "data.head()\n",
    "\n",
    "new_dict = []\n",
    "for index,row in combined_df.iterrows():\n",
    "    for pattern in row['patterns']:\n",
    "        temp_dict = {\n",
    "            'tag': row['tag'],\n",
    "            'patterns': pattern,\n",
    "            'responses': row['responses']\n",
    "        }\n",
    "        new_dict.append(temp_dict)\n",
    "\n",
    "data = pd.DataFrame.from_dict(new_dict)\n",
    "data"
   ]
  },
  {
   "cell_type": "code",
   "execution_count": 54,
   "metadata": {},
   "outputs": [
    {
     "name": "stdout",
     "output_type": "stream",
     "text": [
      "Shape (1195, 3)\n"
     ]
    }
   ],
   "source": [
    "data = pd.concat([data, more_data])\n",
    "print(\"Shape\", data.shape)"
   ]
  },
  {
   "cell_type": "code",
   "execution_count": 55,
   "metadata": {},
   "outputs": [
    {
     "data": {
      "text/html": [
       "<div>\n",
       "<style scoped>\n",
       "    .dataframe tbody tr th:only-of-type {\n",
       "        vertical-align: middle;\n",
       "    }\n",
       "\n",
       "    .dataframe tbody tr th {\n",
       "        vertical-align: top;\n",
       "    }\n",
       "\n",
       "    .dataframe thead th {\n",
       "        text-align: right;\n",
       "    }\n",
       "</style>\n",
       "<table border=\"1\" class=\"dataframe\">\n",
       "  <thead>\n",
       "    <tr style=\"text-align: right;\">\n",
       "      <th></th>\n",
       "      <th>tag</th>\n",
       "      <th>patterns</th>\n",
       "      <th>responses</th>\n",
       "    </tr>\n",
       "  </thead>\n",
       "  <tbody>\n",
       "    <tr>\n",
       "      <th>count</th>\n",
       "      <td>1195</td>\n",
       "      <td>1195</td>\n",
       "      <td>1195</td>\n",
       "    </tr>\n",
       "    <tr>\n",
       "      <th>unique</th>\n",
       "      <td>252</td>\n",
       "      <td>1159</td>\n",
       "      <td>252</td>\n",
       "    </tr>\n",
       "    <tr>\n",
       "      <th>top</th>\n",
       "      <td>greeting</td>\n",
       "      <td>How can depression be treated?</td>\n",
       "      <td>[Hello there. Tell me how are you feeling toda...</td>\n",
       "    </tr>\n",
       "    <tr>\n",
       "      <th>freq</th>\n",
       "      <td>12</td>\n",
       "      <td>3</td>\n",
       "      <td>12</td>\n",
       "    </tr>\n",
       "  </tbody>\n",
       "</table>\n",
       "</div>"
      ],
      "text/plain": [
       "             tag                        patterns  \\\n",
       "count       1195                            1195   \n",
       "unique       252                            1159   \n",
       "top     greeting  How can depression be treated?   \n",
       "freq          12                               3   \n",
       "\n",
       "                                                responses  \n",
       "count                                                1195  \n",
       "unique                                                252  \n",
       "top     [Hello there. Tell me how are you feeling toda...  \n",
       "freq                                                   12  "
      ]
     },
     "execution_count": 55,
     "metadata": {},
     "output_type": "execute_result"
    }
   ],
   "source": [
    "data.describe()"
   ]
  },
  {
   "cell_type": "code",
   "execution_count": 56,
   "metadata": {},
   "outputs": [],
   "source": [
    "data.to_csv('data.csv', index=False) "
   ]
  },
  {
   "cell_type": "markdown",
   "metadata": {},
   "source": [
    "# Data Analysis"
   ]
  },
  {
   "cell_type": "markdown",
   "metadata": {},
   "source": [
    "### Distribution of Tag Column"
   ]
  },
  {
   "cell_type": "code",
   "execution_count": 57,
   "metadata": {},
   "outputs": [
    {
     "name": "stdout",
     "output_type": "stream",
     "text": [
      "Distribution of tag column:\n"
     ]
    },
    {
     "data": {
      "image/png": "[encoded data removed]",
      "text/plain": [
       "<Figure size 2000x600 with 1 Axes>"
      ]
     },
     "metadata": {},
     "output_type": "display_data"
    }
   ],
   "source": [
    "# Distribution of Tag Column\n",
    "distribution = data['tag'].value_counts()[:15]\n",
    "print(\"Distribution of tag column:\")\n",
    "distribution.plot(kind='bar', figsize=(20, 6), title=\"Distribution of Tag Column\", color=\"teal\", alpha=0.8)\n",
    "\n",
    "# Add labels and title\n",
    "plt.xlabel('Tags')\n",
    "plt.ylabel('Count')\n",
    "\n",
    "# Show plot\n",
    "plt.show()"
   ]
  },
  {
   "cell_type": "markdown",
   "metadata": {},
   "source": [
    "### Distribution of # Responses"
   ]
  },
  {
   "cell_type": "code",
   "execution_count": 58,
   "metadata": {},
   "outputs": [
    {
     "name": "stdout",
     "output_type": "stream",
     "text": [
      "Distribution of Responses column:\n"
     ]
    },
    {
     "data": {
      "image/png": "[encoded data removed]",
      "text/plain": [
       "<Figure size 1000x600 with 1 Axes>"
      ]
     },
     "metadata": {},
     "output_type": "display_data"
    }
   ],
   "source": [
    "# Distribution of Reponses column (its length)\n",
    "data_with_length = df.copy()\n",
    "data_with_length['# Responses'] = data_with_length['responses'].apply(lambda x: len(x))\n",
    "data_with_length = data_with_length[['tag','# Responses']]\n",
    "data_with_length = data_with_length.sort_values(by='# Responses',ascending=False)\n",
    "subset = data_with_length.head(15)\n",
    "# data_with_length.head()\n",
    "\n",
    "print(\"Distribution of Responses column:\")\n",
    "plt.figure(figsize=(10, 6))  \n",
    "plt.bar(subset['tag'], subset['# Responses'], color=\"darkgreen\", alpha=0.7)\n",
    "\n",
    "# Add labels and title\n",
    "plt.xlabel('Tag')\n",
    "plt.ylabel('# Responses')\n",
    "plt.title('Plot of # Responses for each tag')\n",
    "plt.xticks(rotation=45)\n",
    "\n",
    "# Show plot\n",
    "plt.show()"
   ]
  },
  {
   "cell_type": "markdown",
   "metadata": {},
   "source": [
    "# Pre-processing"
   ]
  },
  {
   "cell_type": "code",
   "execution_count": 59,
   "metadata": {},
   "outputs": [],
   "source": [
    "# data = data[~data['tag'].str.contains('fact')]"
   ]
  },
  {
   "cell_type": "code",
   "execution_count": 60,
   "metadata": {},
   "outputs": [
    {
     "data": {
      "text/html": [
       "<div>\n",
       "<style scoped>\n",
       "    .dataframe tbody tr th:only-of-type {\n",
       "        vertical-align: middle;\n",
       "    }\n",
       "\n",
       "    .dataframe tbody tr th {\n",
       "        vertical-align: top;\n",
       "    }\n",
       "\n",
       "    .dataframe thead th {\n",
       "        text-align: right;\n",
       "    }\n",
       "</style>\n",
       "<table border=\"1\" class=\"dataframe\">\n",
       "  <thead>\n",
       "    <tr style=\"text-align: right;\">\n",
       "      <th></th>\n",
       "      <th>tag</th>\n",
       "      <th>patterns</th>\n",
       "      <th>responses</th>\n",
       "    </tr>\n",
       "  </thead>\n",
       "  <tbody>\n",
       "    <tr>\n",
       "      <th>0</th>\n",
       "      <td>greeting</td>\n",
       "      <td>Hi</td>\n",
       "      <td>[Hello there. Tell me how are you feeling toda...</td>\n",
       "    </tr>\n",
       "    <tr>\n",
       "      <th>1</th>\n",
       "      <td>greeting</td>\n",
       "      <td>Hey</td>\n",
       "      <td>[Hello there. Tell me how are you feeling toda...</td>\n",
       "    </tr>\n",
       "    <tr>\n",
       "      <th>2</th>\n",
       "      <td>greeting</td>\n",
       "      <td>Is anyone there?</td>\n",
       "      <td>[Hello there. Tell me how are you feeling toda...</td>\n",
       "    </tr>\n",
       "    <tr>\n",
       "      <th>3</th>\n",
       "      <td>greeting</td>\n",
       "      <td>Hi there</td>\n",
       "      <td>[Hello there. Tell me how are you feeling toda...</td>\n",
       "    </tr>\n",
       "    <tr>\n",
       "      <th>4</th>\n",
       "      <td>greeting</td>\n",
       "      <td>Hello</td>\n",
       "      <td>[Hello there. Tell me how are you feeling toda...</td>\n",
       "    </tr>\n",
       "  </tbody>\n",
       "</table>\n",
       "</div>"
      ],
      "text/plain": [
       "        tag          patterns  \\\n",
       "0  greeting                Hi   \n",
       "1  greeting               Hey   \n",
       "2  greeting  Is anyone there?   \n",
       "3  greeting          Hi there   \n",
       "4  greeting             Hello   \n",
       "\n",
       "                                           responses  \n",
       "0  [Hello there. Tell me how are you feeling toda...  \n",
       "1  [Hello there. Tell me how are you feeling toda...  \n",
       "2  [Hello there. Tell me how are you feeling toda...  \n",
       "3  [Hello there. Tell me how are you feeling toda...  \n",
       "4  [Hello there. Tell me how are you feeling toda...  "
      ]
     },
     "execution_count": 60,
     "metadata": {},
     "output_type": "execute_result"
    }
   ],
   "source": [
    "data.head()"
   ]
  },
  {
   "cell_type": "code",
   "execution_count": 61,
   "metadata": {},
   "outputs": [
    {
     "name": "stdout",
     "output_type": "stream",
     "text": [
      "Unique labels: 252\n"
     ]
    }
   ],
   "source": [
    "x = data['patterns']\n",
    "y = data['tag']\n",
    "print(\"Unique labels:\", len(set(y)))"
   ]
  },
  {
   "cell_type": "markdown",
   "metadata": {},
   "source": [
    "Thoughts:\n",
    "- Tokenize\n",
    "- Lower-case everything\n",
    "- Remove stopwords\n",
    "- Lemmatize the rest"
   ]
  },
  {
   "cell_type": "code",
   "execution_count": 62,
   "metadata": {},
   "outputs": [],
   "source": [
    "def preprocess_sentence(sentence):\n",
    "    tokens = word_tokenize(sentence)\n",
    "    tokens = [t.lower() for t in tokens]\n",
    "    tokens = [t for t in tokens if t.isalpha() \n",
    "              and t not in stopwords.words('english')]\n",
    "    wnl = WordNetLemmatizer()\n",
    "    lemmas = [wnl.lemmatize(t) for t in tokens]\n",
    "    unique_lemmas = list(set(lemmas))\n",
    "    return unique_lemmas"
   ]
  },
  {
   "cell_type": "code",
   "execution_count": 63,
   "metadata": {},
   "outputs": [],
   "source": [
    "x_mod = []\n",
    "for i,row in enumerate(x):\n",
    "    row_processed = preprocess_sentence(row)\n",
    "    #print(i, row_processed)\n",
    "    x_mod.append(' '.join(row_processed))"
   ]
  },
  {
   "cell_type": "code",
   "execution_count": 64,
   "metadata": {},
   "outputs": [
    {
     "name": "stdout",
     "output_type": "stream",
     "text": [
      "Length 1195\n"
     ]
    }
   ],
   "source": [
    "print(\"Length\", len(x_mod))\n",
    "assert len(x_mod) == len(x)"
   ]
  },
  {
   "cell_type": "markdown",
   "metadata": {},
   "source": [
    "# Model Building"
   ]
  },
  {
   "cell_type": "code",
   "execution_count": 65,
   "metadata": {},
   "outputs": [],
   "source": [
    "from sklearn.svm import SVC\n",
    "X1 = data['patterns']\n",
    "y1 = data['tag']\n",
    "X_train1, X_test1, y_train1, y_test1 = train_test_split(X1, y1, test_size=0.2, random_state=42)\n",
    "\n",
    "# Vectorize the text data using TF-IDF\n",
    "vectorizer = TfidfVectorizer()\n",
    "X_train_vec1 = vectorizer.fit_transform(X1)\n",
    "X_test_vec1 = vectorizer.transform(X_test1)\n",
    "\n",
    "# comment out this line if training on whole X\n",
    "# y1 = y_train1\n",
    "with open('vectorizer.sav','wb') as f:\n",
    "    pickle.dump(vectorizer,f)\n"
   ]
  },
  {
   "cell_type": "code",
   "execution_count": 66,
   "metadata": {},
   "outputs": [
    {
     "name": "stderr",
     "output_type": "stream",
     "text": [
      "/Library/Frameworks/Python.framework/Versions/3.11/lib/python3.11/site-packages/sklearn/model_selection/_split.py:725: UserWarning: The least populated class in y has only 1 members, which is less than n_splits=5.\n",
      "  warnings.warn(\n",
      "huggingface/tokenizers: The current process just got forked, after parallelism has already been used. Disabling parallelism to avoid deadlocks...\n",
      "To disable this warning, you can either:\n",
      "\t- Avoid using `tokenizers` before the fork if possible\n",
      "\t- Explicitly set the environment variable TOKENIZERS_PARALLELISM=(true | false)\n",
      "huggingface/tokenizers: The current process just got forked, after parallelism has already been used. Disabling parallelism to avoid deadlocks...\n",
      "To disable this warning, you can either:\n",
      "\t- Avoid using `tokenizers` before the fork if possible\n",
      "\t- Explicitly set the environment variable TOKENIZERS_PARALLELISM=(true | false)\n",
      "huggingface/tokenizers: The current process just got forked, after parallelism has already been used. Disabling parallelism to avoid deadlocks...\n",
      "To disable this warning, you can either:\n",
      "\t- Avoid using `tokenizers` before the fork if possible\n",
      "\t- Explicitly set the environment variable TOKENIZERS_PARALLELISM=(true | false)\n",
      "huggingface/tokenizers: The current process just got forked, after parallelism has already been used. Disabling parallelism to avoid deadlocks...\n",
      "To disable this warning, you can either:\n",
      "\t- Avoid using `tokenizers` before the fork if possible\n",
      "\t- Explicitly set the environment variable TOKENIZERS_PARALLELISM=(true | false)\n"
     ]
    },
    {
     "name": "stdout",
     "output_type": "stream",
     "text": [
      "Best Parameters: {'C': 4, 'gamma': 1, 'kernel': 'sigmoid'}\n",
      "Best Score: 0.8267782426778243\n"
     ]
    }
   ],
   "source": [
    "# Train a Support Vector Machine (SVM) classifier\n",
    "svc_base = SVC(random_state=2311)\n",
    "# model.fit(X_train_vec1, y1)\n",
    "  \n",
    "svc_param_grid = {\n",
    "    'C': [0.1, 0.2, 0.4, 1, 2, 4, 10],\n",
    "    'kernel': ['linear', 'rbf', 'poly', 'sigmoid'],\n",
    "    'gamma': [0.001, 0.01, 0.1, 0.5, 1]\n",
    "}\n",
    "svc_grid_search=GridSearchCV(estimator = svc_base,\n",
    "                        param_grid = svc_param_grid,\n",
    "                        scoring='accuracy',\n",
    "                        cv=5,\n",
    "                        n_jobs=-1)\n",
    "svc_grid_search=svc_grid_search.fit(X_train_vec1,y1)\n",
    "print(\"Best Parameters:\", svc_grid_search.best_params_)\n",
    "print(\"Best Score:\", svc_grid_search.best_score_)\n",
    "\n",
    "svc_model = svc_grid_search.best_estimator_"
   ]
  },
  {
   "cell_type": "code",
   "execution_count": 67,
   "metadata": {},
   "outputs": [
    {
     "name": "stdout",
     "output_type": "stream",
     "text": [
      "Precision: 0.9435146443514645\n",
      "Recall: 0.9456066945606695\n"
     ]
    },
    {
     "name": "stderr",
     "output_type": "stream",
     "text": [
      "/Library/Frameworks/Python.framework/Versions/3.11/lib/python3.11/site-packages/sklearn/metrics/_classification.py:1469: UndefinedMetricWarning: Precision is ill-defined and being set to 0.0 in labels with no predicted samples. Use `zero_division` parameter to control this behavior.\n",
      "  _warn_prf(average, modifier, msg_start, len(result))\n",
      "/Library/Frameworks/Python.framework/Versions/3.11/lib/python3.11/site-packages/sklearn/metrics/_classification.py:1469: UndefinedMetricWarning: Recall is ill-defined and being set to 0.0 in labels with no true samples. Use `zero_division` parameter to control this behavior.\n",
      "  _warn_prf(average, modifier, msg_start, len(result))\n"
     ]
    }
   ],
   "source": [
    "y_pred_svc = svc_model.predict(X_test_vec1)\n",
    "# print(classification_report(y_test1, y_pred_svc))\n",
    "precision = precision_score(y_test1, y_pred_svc, average=\"weighted\")\n",
    "recall = recall_score(y_test1, y_pred_svc, average=\"weighted\")\n",
    "\n",
    "print(\"Precision:\", precision)\n",
    "print(\"Recall:\", recall)"
   ]
  },
  {
   "cell_type": "code",
   "execution_count": 68,
   "metadata": {},
   "outputs": [
    {
     "name": "stderr",
     "output_type": "stream",
     "text": [
      "/Library/Frameworks/Python.framework/Versions/3.11/lib/python3.11/site-packages/sklearn/model_selection/_split.py:725: UserWarning: The least populated class in y has only 1 members, which is less than n_splits=5.\n",
      "  warnings.warn(\n"
     ]
    },
    {
     "name": "stdout",
     "output_type": "stream",
     "text": [
      "Best Parameters: {'alpha': 0.005, 'fit_prior': True}\n",
      "Best Score: 0.8301255230125524\n"
     ]
    }
   ],
   "source": [
    "from sklearn.naive_bayes import MultinomialNB\n",
    "from sklearn.metrics import accuracy_score\n",
    "# Create the Multinomial Naive Bayes classifier\n",
    "mnb_base = MultinomialNB()\n",
    "\n",
    "mnb_param_grid = {\n",
    "    'alpha': [0.001, 0.005, 0.1, 0.2, 0.4, 0.8, 1, 2, 4, 8, 10],\n",
    "    'fit_prior': [True, False]\n",
    "}\n",
    "mnb_grid_search=GridSearchCV(estimator = mnb_base,\n",
    "                        param_grid = mnb_param_grid,\n",
    "                        scoring='accuracy',\n",
    "                        cv=5,\n",
    "                        n_jobs=-1)\n",
    "mnb_grid_search=mnb_grid_search.fit(X_train_vec1,y1)\n",
    "print(\"Best Parameters:\", mnb_grid_search.best_params_)\n",
    "print(\"Best Score:\", mnb_grid_search.best_score_)\n",
    "\n",
    "mnb_model = mnb_grid_search.best_estimator_\n",
    "\n"
   ]
  },
  {
   "cell_type": "code",
   "execution_count": 69,
   "metadata": {},
   "outputs": [],
   "source": [
    "with open('chatbot_model.pkl','wb') as f:\n",
    "    pickle.dump(mnb_model,f)"
   ]
  },
  {
   "cell_type": "code",
   "execution_count": 70,
   "metadata": {},
   "outputs": [
    {
     "name": "stdout",
     "output_type": "stream",
     "text": [
      "Precision: 0.9476987447698745\n",
      "Recall: 0.9497907949790795\n"
     ]
    },
    {
     "name": "stderr",
     "output_type": "stream",
     "text": [
      "/Library/Frameworks/Python.framework/Versions/3.11/lib/python3.11/site-packages/sklearn/metrics/_classification.py:1469: UndefinedMetricWarning: Precision is ill-defined and being set to 0.0 in labels with no predicted samples. Use `zero_division` parameter to control this behavior.\n",
      "  _warn_prf(average, modifier, msg_start, len(result))\n",
      "/Library/Frameworks/Python.framework/Versions/3.11/lib/python3.11/site-packages/sklearn/metrics/_classification.py:1469: UndefinedMetricWarning: Recall is ill-defined and being set to 0.0 in labels with no true samples. Use `zero_division` parameter to control this behavior.\n",
      "  _warn_prf(average, modifier, msg_start, len(result))\n"
     ]
    }
   ],
   "source": [
    "# # Predict on the test set\n",
    "y_pred_mnb = mnb_model.predict(X_test_vec1)\n",
    "# print(classification_report(y_test1, y_pred_mnb))\n",
    "precision = precision_score(y_test1, y_pred_mnb, average=\"weighted\")\n",
    "recall = recall_score(y_test1, y_pred_mnb, average=\"weighted\")\n",
    "\n",
    "print(\"Precision:\", precision)\n",
    "print(\"Recall:\", recall)"
   ]
  }
 ],
 "metadata": {
  "kernelspec": {
   "display_name": "Python 3",
   "language": "python",
   "name": "python3"
  },
  "language_info": {
   "codemirror_mode": {
    "name": "ipython",
    "version": 3
   },
   "file_extension": ".py",
   "mimetype": "text/x-python",
   "name": "python",
   "nbconvert_exporter": "python",
   "pygments_lexer": "ipython3",
   "version": "3.11.4"
  }
 },
 "nbformat": 4,
 "nbformat_minor": 2
}
